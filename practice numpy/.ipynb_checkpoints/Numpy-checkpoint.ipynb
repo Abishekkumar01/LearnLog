{
 "cells": [
  {
   "cell_type": "markdown",
   "id": "79d9b760-b9d5-4b7c-9103-5b4192a64540",
   "metadata": {},
   "source": [
    "# Numpy\n"
   ]
  },
  {
   "cell_type": "code",
   "execution_count": 1,
   "id": "3e8454cd-f3b3-42ca-8b21-5fe3fda9c1bb",
   "metadata": {},
   "outputs": [
    {
     "name": "stdout",
     "output_type": "stream",
     "text": [
      "imported\n"
     ]
    }
   ],
   "source": [
    "import numpy as np\n",
    "print(\"imported\")"
   ]
  },
  {
   "cell_type": "code",
   "execution_count": 2,
   "id": "396ab552-aae6-4a45-8a1a-d275fdbbd39b",
   "metadata": {},
   "outputs": [
    {
     "data": {
      "text/plain": [
       "[1, 2, 3, 4, 5, 6]"
      ]
     },
     "execution_count": 2,
     "metadata": {},
     "output_type": "execute_result"
    }
   ],
   "source": [
    "ls = [1,2,3,4,5,6]\n",
    "ls"
   ]
  },
  {
   "cell_type": "code",
   "execution_count": 3,
   "id": "dca91133-26ce-4316-8e08-38c696f25b6a",
   "metadata": {},
   "outputs": [
    {
     "data": {
      "text/plain": [
       "[1, 2, 3, 4, 5, 6]"
      ]
     },
     "execution_count": 3,
     "metadata": {},
     "output_type": "execute_result"
    }
   ],
   "source": [
    "ls = [1,2,3,4,5,6]\n",
    "arr = np.array(ls)\n",
    "ls"
   ]
  },
  {
   "cell_type": "code",
   "execution_count": 4,
   "id": "1d605d05-401f-4ccc-b5fe-6d418a8bb842",
   "metadata": {},
   "outputs": [
    {
     "data": {
      "text/plain": [
       "numpy.ndarray"
      ]
     },
     "execution_count": 4,
     "metadata": {},
     "output_type": "execute_result"
    }
   ],
   "source": [
    "type(arr)"
   ]
  },
  {
   "cell_type": "code",
   "execution_count": 5,
   "id": "aafbdec5-7d08-459a-bf4d-419a1c406cd1",
   "metadata": {},
   "outputs": [
    {
     "data": {
      "text/plain": [
       "array([ 6,  7,  8,  9, 10, 11])"
      ]
     },
     "execution_count": 5,
     "metadata": {},
     "output_type": "execute_result"
    }
   ],
   "source": [
    "arr+5"
   ]
  },
  {
   "cell_type": "code",
   "execution_count": 6,
   "id": "8f516a93-0aaf-4c7d-bded-d5cd4369b4e1",
   "metadata": {},
   "outputs": [
    {
     "data": {
      "text/plain": [
       "dtype('int32')"
      ]
     },
     "execution_count": 6,
     "metadata": {},
     "output_type": "execute_result"
    }
   ],
   "source": [
    "arr.dtype"
   ]
  },
  {
   "cell_type": "code",
   "execution_count": 7,
   "id": "29429b64-1041-4651-aaf2-eb0977b05634",
   "metadata": {},
   "outputs": [
    {
     "data": {
      "text/plain": [
       "1"
      ]
     },
     "execution_count": 7,
     "metadata": {},
     "output_type": "execute_result"
    }
   ],
   "source": [
    "arr.ndim"
   ]
  },
  {
   "cell_type": "code",
   "execution_count": 8,
   "id": "880a5d4a-8395-4a35-8bee-c6cbf9a5532e",
   "metadata": {},
   "outputs": [
    {
     "data": {
      "text/plain": [
       "3"
      ]
     },
     "execution_count": 8,
     "metadata": {},
     "output_type": "execute_result"
    }
   ],
   "source": [
    "ls = [1,2,3,4,5,6]\n",
    "arr2 = np.array(ls)\n",
    "arr2[2]"
   ]
  },
  {
   "cell_type": "code",
   "execution_count": 9,
   "id": "7543f3f2-0224-4775-b784-c78e821069e8",
   "metadata": {},
   "outputs": [
    {
     "data": {
      "text/plain": [
       "array([3, 5])"
      ]
     },
     "execution_count": 9,
     "metadata": {},
     "output_type": "execute_result"
    }
   ],
   "source": [
    "ls = [1,2,3,4,5,6]\n",
    "arr2 = np.array(ls)\n",
    "arr2[2:5:2]"
   ]
  },
  {
   "cell_type": "code",
   "execution_count": 10,
   "id": "a725d96e-9d3e-46ae-9902-bd7cb797b680",
   "metadata": {},
   "outputs": [
    {
     "data": {
      "text/plain": [
       "array([1, 2, 3, 4])"
      ]
     },
     "execution_count": 10,
     "metadata": {},
     "output_type": "execute_result"
    }
   ],
   "source": [
    "ls = [1,2,3,4,5,6]\n",
    "# for i in ls:\n",
    "#     if i < 5:\n",
    "#         print(i)\n",
    "arr[arr<5]"
   ]
  },
  {
   "cell_type": "code",
   "execution_count": 11,
   "id": "a6972f1d-1bdf-4748-9617-0409fbf9e40a",
   "metadata": {},
   "outputs": [
    {
     "data": {
      "text/plain": [
       "6"
      ]
     },
     "execution_count": 11,
     "metadata": {},
     "output_type": "execute_result"
    }
   ],
   "source": [
    "arr.size"
   ]
  },
  {
   "cell_type": "code",
   "execution_count": 12,
   "id": "5e3ee06e-a904-4fda-8b3f-a5ab7f41d640",
   "metadata": {},
   "outputs": [
    {
     "data": {
      "text/plain": [
       "6"
      ]
     },
     "execution_count": 12,
     "metadata": {},
     "output_type": "execute_result"
    }
   ],
   "source": [
    "len(arr)"
   ]
  },
  {
   "cell_type": "code",
   "execution_count": 13,
   "id": "c9db7904-bd24-4184-9009-e61ecc3cdee8",
   "metadata": {},
   "outputs": [
    {
     "data": {
      "text/plain": [
       "array([ 0,  1,  2,  3,  4,  5,  6,  7,  8,  9, 10, 11, 12, 13, 14, 15, 16,\n",
       "       17, 18, 19, 20, 21, 22, 23, 24, 25, 26, 27, 28, 29, 30, 31, 32, 33,\n",
       "       34, 35, 36, 37, 38, 39, 40, 41, 42, 43, 44, 45, 46, 47, 48, 49, 50,\n",
       "       51, 52, 53, 54, 55, 56, 57, 58, 59, 60, 61, 62, 63, 64, 65, 66, 67,\n",
       "       68, 69, 70, 71, 72, 73, 74, 75, 76, 77, 78, 79, 80, 81, 82, 83, 84,\n",
       "       85, 86, 87, 88, 89, 90, 91, 92, 93, 94, 95, 96, 97, 98, 99])"
      ]
     },
     "execution_count": 13,
     "metadata": {},
     "output_type": "execute_result"
    }
   ],
   "source": [
    "arr2 = np.arange(100)\n",
    "arr2"
   ]
  },
  {
   "cell_type": "code",
   "execution_count": 14,
   "id": "3c08fc90-14ff-4218-9be4-d8bc01f66c70",
   "metadata": {},
   "outputs": [
    {
     "data": {
      "text/plain": [
       "array([[1., 1., 1., 1., 1.],\n",
       "       [1., 1., 1., 1., 1.],\n",
       "       [1., 1., 1., 1., 1.],\n",
       "       [1., 1., 1., 1., 1.],\n",
       "       [1., 1., 1., 1., 1.],\n",
       "       [1., 1., 1., 1., 1.],\n",
       "       [1., 1., 1., 1., 1.],\n",
       "       [1., 1., 1., 1., 1.],\n",
       "       [1., 1., 1., 1., 1.],\n",
       "       [1., 1., 1., 1., 1.]])"
      ]
     },
     "execution_count": 14,
     "metadata": {},
     "output_type": "execute_result"
    }
   ],
   "source": [
    "np.ones((10,5))"
   ]
  },
  {
   "cell_type": "code",
   "execution_count": 15,
   "id": "05657453-12c4-4676-89c3-077980f3a653",
   "metadata": {},
   "outputs": [
    {
     "data": {
      "text/plain": [
       "array([1., 1., 1., 1., 1., 1., 1., 1., 1., 1.])"
      ]
     },
     "execution_count": 15,
     "metadata": {},
     "output_type": "execute_result"
    }
   ],
   "source": [
    "np.ones(10)"
   ]
  },
  {
   "cell_type": "code",
   "execution_count": 16,
   "id": "995b6a6b-323c-4a3e-8b52-ed2db3d4e325",
   "metadata": {},
   "outputs": [
    {
     "data": {
      "text/plain": [
       "array([0., 0., 0., 0., 0., 0., 0., 0., 0., 0.])"
      ]
     },
     "execution_count": 16,
     "metadata": {},
     "output_type": "execute_result"
    }
   ],
   "source": [
    "np.zeros(10)"
   ]
  },
  {
   "cell_type": "code",
   "execution_count": 17,
   "id": "ee2a93f5-73b7-4e2d-ae7d-0bd307a86e5b",
   "metadata": {},
   "outputs": [
    {
     "data": {
      "text/plain": [
       "array([1.  , 2.75, 4.5 , 6.25, 8.  ])"
      ]
     },
     "execution_count": 17,
     "metadata": {},
     "output_type": "execute_result"
    }
   ],
   "source": [
    "np.linspace(1,8,5)"
   ]
  },
  {
   "cell_type": "code",
   "execution_count": 18,
   "id": "a8a73cf6-b463-4acb-8364-137752f9c290",
   "metadata": {},
   "outputs": [],
   "source": [
    "import random "
   ]
  },
  {
   "cell_type": "code",
   "execution_count": 19,
   "id": "1c430fcd-1dff-4d0c-9b1b-e3542048f462",
   "metadata": {},
   "outputs": [
    {
     "data": {
      "text/plain": [
       "9"
      ]
     },
     "execution_count": 19,
     "metadata": {},
     "output_type": "execute_result"
    }
   ],
   "source": [
    "random.randint(1,10)"
   ]
  },
  {
   "cell_type": "code",
   "execution_count": 20,
   "id": "b29491a3-0971-4701-8942-09990e5baee5",
   "metadata": {},
   "outputs": [
    {
     "data": {
      "text/plain": [
       "0.8072561791011856"
      ]
     },
     "execution_count": 20,
     "metadata": {},
     "output_type": "execute_result"
    }
   ],
   "source": [
    "random.random()"
   ]
  },
  {
   "cell_type": "code",
   "execution_count": 21,
   "id": "0fb4d38f-3b84-4705-a8ad-f3dd34ba44aa",
   "metadata": {},
   "outputs": [
    {
     "data": {
      "text/plain": [
       "'aman'"
      ]
     },
     "execution_count": 21,
     "metadata": {},
     "output_type": "execute_result"
    }
   ],
   "source": [
    "ls = [\"abi\",\"chetan\",\"aman\"]\n",
    "random.choice(ls)"
   ]
  },
  {
   "cell_type": "code",
   "execution_count": 22,
   "id": "76110b3b-c5cb-4d48-a503-682c94277e2f",
   "metadata": {},
   "outputs": [
    {
     "data": {
      "text/plain": [
       "['aman', 'chetan']"
      ]
     },
     "execution_count": 22,
     "metadata": {},
     "output_type": "execute_result"
    }
   ],
   "source": [
    "random.choices(ls,k=2)"
   ]
  },
  {
   "cell_type": "code",
   "execution_count": 23,
   "id": "a23b13e9-1e33-4722-bcba-c6b99dfcb4b8",
   "metadata": {},
   "outputs": [
    {
     "data": {
      "text/plain": [
       "['chetan', 'abi', 'aman']"
      ]
     },
     "execution_count": 23,
     "metadata": {},
     "output_type": "execute_result"
    }
   ],
   "source": [
    "random.shuffle(ls)\n",
    "ls"
   ]
  },
  {
   "cell_type": "code",
   "execution_count": 24,
   "id": "71e06bf4-a12c-4d58-829d-bae24e280a46",
   "metadata": {},
   "outputs": [
    {
     "data": {
      "text/plain": [
       "array([25,  8, 29, 46, 27, 32, 49,  3, 45, 35])"
      ]
     },
     "execution_count": 24,
     "metadata": {},
     "output_type": "execute_result"
    }
   ],
   "source": [
    "np.random.randint(1,50,10)"
   ]
  },
  {
   "cell_type": "code",
   "execution_count": 25,
   "id": "8a2cecb3-616f-42aa-b799-59ce251d2842",
   "metadata": {},
   "outputs": [
    {
     "name": "stdout",
     "output_type": "stream",
     "text": [
      "Python 3.8.10\n"
     ]
    }
   ],
   "source": [
    "!python --version"
   ]
  },
  {
   "cell_type": "code",
   "execution_count": 26,
   "id": "e3f0b10e-3cca-4a82-a2cf-afad91c10156",
   "metadata": {},
   "outputs": [
    {
     "data": {
      "text/plain": [
       "array([[18, 25, 37, 14, 42],\n",
       "       [24, 37, 23,  6, 24],\n",
       "       [49, 44, 34, 14, 18],\n",
       "       [43,  9, 49, 47, 40],\n",
       "       [ 6, 10, 11, 39, 40],\n",
       "       [30, 24,  5, 24, 22],\n",
       "       [41, 37, 43, 43, 11],\n",
       "       [37,  2, 18, 16, 27],\n",
       "       [23, 32, 41,  8, 40],\n",
       "       [34, 10, 25, 22, 41]])"
      ]
     },
     "execution_count": 26,
     "metadata": {},
     "output_type": "execute_result"
    }
   ],
   "source": [
    "np.random.randint(1,50,(10,5))"
   ]
  },
  {
   "cell_type": "code",
   "execution_count": 27,
   "id": "9b30c100-3a69-44c5-8136-04ccd45cdf0d",
   "metadata": {},
   "outputs": [
    {
     "data": {
      "text/plain": [
       "array([ 0,  1,  2,  3,  4,  5,  6,  7,  8,  9, 10, 11, 12, 13, 14, 15, 16,\n",
       "       17, 18, 19, 20, 21, 22, 23, 24, 25, 26, 27, 28, 29, 30, 31, 32, 33,\n",
       "       34, 35, 36, 37, 38, 39, 40, 41, 42, 43, 44, 45, 46, 47, 48, 49, 50,\n",
       "       51, 52, 53, 54, 55, 56, 57, 58, 59])"
      ]
     },
     "execution_count": 27,
     "metadata": {},
     "output_type": "execute_result"
    }
   ],
   "source": [
    "arr = np.arange(60)\n",
    "arr\n"
   ]
  },
  {
   "cell_type": "code",
   "execution_count": 28,
   "id": "bee6607d-256d-4fa6-bd7d-1aec86c76837",
   "metadata": {},
   "outputs": [
    {
     "data": {
      "text/plain": [
       "array([[ 0,  1,  2,  3,  4],\n",
       "       [ 5,  6,  7,  8,  9],\n",
       "       [10, 11, 12, 13, 14],\n",
       "       [15, 16, 17, 18, 19],\n",
       "       [20, 21, 22, 23, 24],\n",
       "       [25, 26, 27, 28, 29],\n",
       "       [30, 31, 32, 33, 34],\n",
       "       [35, 36, 37, 38, 39],\n",
       "       [40, 41, 42, 43, 44],\n",
       "       [45, 46, 47, 48, 49],\n",
       "       [50, 51, 52, 53, 54],\n",
       "       [55, 56, 57, 58, 59]])"
      ]
     },
     "execution_count": 28,
     "metadata": {},
     "output_type": "execute_result"
    }
   ],
   "source": [
    "arr.reshape(12,5)"
   ]
  },
  {
   "cell_type": "code",
   "execution_count": 29,
   "id": "bc9840de-2aef-4b15-a5c4-796a05b1c1bd",
   "metadata": {},
   "outputs": [
    {
     "data": {
      "text/plain": [
       "array([[[ 0,  1],\n",
       "        [ 2,  3],\n",
       "        [ 4,  5]],\n",
       "\n",
       "       [[ 6,  7],\n",
       "        [ 8,  9],\n",
       "        [10, 11]],\n",
       "\n",
       "       [[12, 13],\n",
       "        [14, 15],\n",
       "        [16, 17]],\n",
       "\n",
       "       [[18, 19],\n",
       "        [20, 21],\n",
       "        [22, 23]],\n",
       "\n",
       "       [[24, 25],\n",
       "        [26, 27],\n",
       "        [28, 29]],\n",
       "\n",
       "       [[30, 31],\n",
       "        [32, 33],\n",
       "        [34, 35]],\n",
       "\n",
       "       [[36, 37],\n",
       "        [38, 39],\n",
       "        [40, 41]],\n",
       "\n",
       "       [[42, 43],\n",
       "        [44, 45],\n",
       "        [46, 47]],\n",
       "\n",
       "       [[48, 49],\n",
       "        [50, 51],\n",
       "        [52, 53]],\n",
       "\n",
       "       [[54, 55],\n",
       "        [56, 57],\n",
       "        [58, 59]]])"
      ]
     },
     "execution_count": 29,
     "metadata": {},
     "output_type": "execute_result"
    }
   ],
   "source": [
    "arr.reshape(10,3,2)"
   ]
  },
  {
   "cell_type": "code",
   "execution_count": 30,
   "id": "031156fe-b063-4cf8-bed0-7f5819afde12",
   "metadata": {},
   "outputs": [
    {
     "data": {
      "text/plain": [
       "array([[ 0,  1,  2,  3,  4,  5,  6,  7,  8,  9, 10, 11, 12, 13, 14, 15,\n",
       "        16, 17, 18, 19, 20, 21, 22, 23, 24],\n",
       "       [25, 26, 27, 28, 29, 30, 31, 32, 33, 34, 35, 36, 37, 38, 39, 40,\n",
       "        41, 42, 43, 44, 45, 46, 47, 48, 49],\n",
       "       [50, 51, 52, 53, 54, 55, 56, 57, 58, 59,  0,  1,  2,  3,  4,  5,\n",
       "         6,  7,  8,  9, 10, 11, 12, 13, 14],\n",
       "       [15, 16, 17, 18, 19, 20, 21, 22, 23, 24, 25, 26, 27, 28, 29, 30,\n",
       "        31, 32, 33, 34, 35, 36, 37, 38, 39],\n",
       "       [40, 41, 42, 43, 44, 45, 46, 47, 48, 49, 50, 51, 52, 53, 54, 55,\n",
       "        56, 57, 58, 59,  0,  1,  2,  3,  4],\n",
       "       [ 5,  6,  7,  8,  9, 10, 11, 12, 13, 14, 15, 16, 17, 18, 19, 20,\n",
       "        21, 22, 23, 24, 25, 26, 27, 28, 29],\n",
       "       [30, 31, 32, 33, 34, 35, 36, 37, 38, 39, 40, 41, 42, 43, 44, 45,\n",
       "        46, 47, 48, 49, 50, 51, 52, 53, 54],\n",
       "       [55, 56, 57, 58, 59,  0,  1,  2,  3,  4,  5,  6,  7,  8,  9, 10,\n",
       "        11, 12, 13, 14, 15, 16, 17, 18, 19],\n",
       "       [20, 21, 22, 23, 24, 25, 26, 27, 28, 29, 30, 31, 32, 33, 34, 35,\n",
       "        36, 37, 38, 39, 40, 41, 42, 43, 44],\n",
       "       [45, 46, 47, 48, 49, 50, 51, 52, 53, 54, 55, 56, 57, 58, 59,  0,\n",
       "         1,  2,  3,  4,  5,  6,  7,  8,  9],\n",
       "       [10, 11, 12, 13, 14, 15, 16, 17, 18, 19, 20, 21, 22, 23, 24, 25,\n",
       "        26, 27, 28, 29, 30, 31, 32, 33, 34],\n",
       "       [35, 36, 37, 38, 39, 40, 41, 42, 43, 44, 45, 46, 47, 48, 49, 50,\n",
       "        51, 52, 53, 54, 55, 56, 57, 58, 59],\n",
       "       [ 0,  1,  2,  3,  4,  5,  6,  7,  8,  9, 10, 11, 12, 13, 14, 15,\n",
       "        16, 17, 18, 19, 20, 21, 22, 23, 24],\n",
       "       [25, 26, 27, 28, 29, 30, 31, 32, 33, 34, 35, 36, 37, 38, 39, 40,\n",
       "        41, 42, 43, 44, 45, 46, 47, 48, 49],\n",
       "       [50, 51, 52, 53, 54, 55, 56, 57, 58, 59,  0,  1,  2,  3,  4,  5,\n",
       "         6,  7,  8,  9, 10, 11, 12, 13, 14],\n",
       "       [15, 16, 17, 18, 19, 20, 21, 22, 23, 24, 25, 26, 27, 28, 29, 30,\n",
       "        31, 32, 33, 34, 35, 36, 37, 38, 39],\n",
       "       [40, 41, 42, 43, 44, 45, 46, 47, 48, 49, 50, 51, 52, 53, 54, 55,\n",
       "        56, 57, 58, 59,  0,  1,  2,  3,  4],\n",
       "       [ 5,  6,  7,  8,  9, 10, 11, 12, 13, 14, 15, 16, 17, 18, 19, 20,\n",
       "        21, 22, 23, 24, 25, 26, 27, 28, 29],\n",
       "       [30, 31, 32, 33, 34, 35, 36, 37, 38, 39, 40, 41, 42, 43, 44, 45,\n",
       "        46, 47, 48, 49, 50, 51, 52, 53, 54],\n",
       "       [55, 56, 57, 58, 59,  0,  1,  2,  3,  4,  5,  6,  7,  8,  9, 10,\n",
       "        11, 12, 13, 14, 15, 16, 17, 18, 19],\n",
       "       [20, 21, 22, 23, 24, 25, 26, 27, 28, 29, 30, 31, 32, 33, 34, 35,\n",
       "        36, 37, 38, 39, 40, 41, 42, 43, 44],\n",
       "       [45, 46, 47, 48, 49, 50, 51, 52, 53, 54, 55, 56, 57, 58, 59,  0,\n",
       "         1,  2,  3,  4,  5,  6,  7,  8,  9],\n",
       "       [10, 11, 12, 13, 14, 15, 16, 17, 18, 19, 20, 21, 22, 23, 24, 25,\n",
       "        26, 27, 28, 29, 30, 31, 32, 33, 34],\n",
       "       [35, 36, 37, 38, 39, 40, 41, 42, 43, 44, 45, 46, 47, 48, 49, 50,\n",
       "        51, 52, 53, 54, 55, 56, 57, 58, 59],\n",
       "       [ 0,  1,  2,  3,  4,  5,  6,  7,  8,  9, 10, 11, 12, 13, 14, 15,\n",
       "        16, 17, 18, 19, 20, 21, 22, 23, 24]])"
      ]
     },
     "execution_count": 30,
     "metadata": {},
     "output_type": "execute_result"
    }
   ],
   "source": [
    "arr2 = np.resize(arr,(25,25))\n",
    "arr2"
   ]
  },
  {
   "cell_type": "code",
   "execution_count": 31,
   "id": "a9405ebb-c10d-49df-bf3a-122915a11998",
   "metadata": {},
   "outputs": [
    {
     "data": {
      "text/plain": [
       "(60,)"
      ]
     },
     "execution_count": 31,
     "metadata": {},
     "output_type": "execute_result"
    }
   ],
   "source": [
    "arr.shape"
   ]
  },
  {
   "cell_type": "code",
   "execution_count": 32,
   "id": "545b4187-5d14-4d6d-a05f-0aca891e5a01",
   "metadata": {},
   "outputs": [
    {
     "data": {
      "text/plain": [
       "array([[ 0,  1,  2,  3,  4,  5,  6,  7,  8,  9, 10, 11, 12, 13, 14, 15,\n",
       "        16, 17, 18, 19, 20, 21, 22, 23, 24],\n",
       "       [25, 26, 27, 28, 29, 30, 31, 32, 33, 34, 35, 36, 37, 38, 39, 40,\n",
       "        41, 42, 43, 44, 45, 46, 47, 48, 49],\n",
       "       [50, 51, 52, 53, 54, 55, 56, 57, 58, 59,  0,  1,  2,  3,  4,  5,\n",
       "         6,  7,  8,  9, 10, 11, 12, 13, 14],\n",
       "       [15, 16, 17, 18, 19, 20, 21, 22, 23, 24, 25, 26, 27, 28, 29, 30,\n",
       "        31, 32, 33, 34, 35, 36, 37, 38, 39],\n",
       "       [40, 41, 42, 43, 44, 45, 46, 47, 48, 49, 50, 51, 52, 53, 54, 55,\n",
       "        56, 57, 58, 59,  0,  1,  2,  3,  4],\n",
       "       [ 5,  6,  7,  8,  9, 10, 11, 12, 13, 14, 15, 16, 17, 18, 19, 20,\n",
       "        21, 22, 23, 24, 25, 26, 27, 28, 29],\n",
       "       [30, 31, 32, 33, 34, 35, 36, 37, 38, 39, 40, 41, 42, 43, 44, 45,\n",
       "        46, 47, 48, 49, 50, 51, 52, 53, 54],\n",
       "       [55, 56, 57, 58, 59,  0,  1,  2,  3,  4,  5,  6,  7,  8,  9, 10,\n",
       "        11, 12, 13, 14, 15, 16, 17, 18, 19],\n",
       "       [20, 21, 22, 23, 24, 25, 26, 27, 28, 29, 30, 31, 32, 33, 34, 35,\n",
       "        36, 37, 38, 39, 40, 41, 42, 43, 44],\n",
       "       [45, 46, 47, 48, 49, 50, 51, 52, 53, 54, 55, 56, 57, 58, 59,  0,\n",
       "         1,  2,  3,  4,  5,  6,  7,  8,  9],\n",
       "       [10, 11, 12, 13, 14, 15, 16, 17, 18, 19, 20, 21, 22, 23, 24, 25,\n",
       "        26, 27, 28, 29, 30, 31, 32, 33, 34],\n",
       "       [35, 36, 37, 38, 39, 40, 41, 42, 43, 44, 45, 46, 47, 48, 49, 50,\n",
       "        51, 52, 53, 54, 55, 56, 57, 58, 59],\n",
       "       [ 0,  1,  2,  3,  4,  5,  6,  7,  8,  9, 10, 11, 12, 13, 14, 15,\n",
       "        16, 17, 18, 19, 20, 21, 22, 23, 24],\n",
       "       [25, 26, 27, 28, 29, 30, 31, 32, 33, 34, 35, 36, 37, 38, 39, 40,\n",
       "        41, 42, 43, 44, 45, 46, 47, 48, 49],\n",
       "       [50, 51, 52, 53, 54, 55, 56, 57, 58, 59,  0,  1,  2,  3,  4,  5,\n",
       "         6,  7,  8,  9, 10, 11, 12, 13, 14],\n",
       "       [15, 16, 17, 18, 19, 20, 21, 22, 23, 24, 25, 26, 27, 28, 29, 30,\n",
       "        31, 32, 33, 34, 35, 36, 37, 38, 39],\n",
       "       [40, 41, 42, 43, 44, 45, 46, 47, 48, 49, 50, 51, 52, 53, 54, 55,\n",
       "        56, 57, 58, 59,  0,  1,  2,  3,  4],\n",
       "       [ 5,  6,  7,  8,  9, 10, 11, 12, 13, 14, 15, 16, 17, 18, 19, 20,\n",
       "        21, 22, 23, 24, 25, 26, 27, 28, 29],\n",
       "       [30, 31, 32, 33, 34, 35, 36, 37, 38, 39, 40, 41, 42, 43, 44, 45,\n",
       "        46, 47, 48, 49, 50, 51, 52, 53, 54],\n",
       "       [55, 56, 57, 58, 59,  0,  1,  2,  3,  4,  5,  6,  7,  8,  9, 10,\n",
       "        11, 12, 13, 14, 15, 16, 17, 18, 19],\n",
       "       [20, 21, 22, 23, 24, 25, 26, 27, 28, 29, 30, 31, 32, 33, 34, 35,\n",
       "        36, 37, 38, 39, 40, 41, 42, 43, 44],\n",
       "       [45, 46, 47, 48, 49, 50, 51, 52, 53, 54, 55, 56, 57, 58, 59,  0,\n",
       "         1,  2,  3,  4,  5,  6,  7,  8,  9],\n",
       "       [10, 11, 12, 13, 14, 15, 16, 17, 18, 19, 20, 21, 22, 23, 24, 25,\n",
       "        26, 27, 28, 29, 30, 31, 32, 33, 34],\n",
       "       [35, 36, 37, 38, 39, 40, 41, 42, 43, 44, 45, 46, 47, 48, 49, 50,\n",
       "        51, 52, 53, 54, 55, 56, 57, 58, 59],\n",
       "       [ 0,  1,  2,  3,  4,  5,  6,  7,  8,  9, 10, 11, 12, 13, 14, 15,\n",
       "        16, 17, 18, 19, 20, 21, 22, 23, 24]])"
      ]
     },
     "execution_count": 32,
     "metadata": {},
     "output_type": "execute_result"
    }
   ],
   "source": [
    "arr2.reshape(625)\n",
    "arr2"
   ]
  },
  {
   "cell_type": "code",
   "execution_count": 33,
   "id": "f3e82e07-4e3b-4a56-ba39-82ca0a6205ec",
   "metadata": {},
   "outputs": [
    {
     "data": {
      "text/plain": [
       "array([ 0,  1,  2,  3,  4,  5,  6,  7,  8,  9, 10, 11, 12, 13, 14, 15, 16,\n",
       "       17, 18, 19, 20, 21, 22, 23, 24, 25, 26, 27, 28, 29, 30, 31, 32, 33,\n",
       "       34, 35, 36, 37, 38, 39, 40, 41, 42, 43, 44, 45, 46, 47, 48, 49, 50,\n",
       "       51, 52, 53, 54, 55, 56, 57, 58, 59])"
      ]
     },
     "execution_count": 33,
     "metadata": {},
     "output_type": "execute_result"
    }
   ],
   "source": [
    "arr.ravel()"
   ]
  },
  {
   "cell_type": "code",
   "execution_count": 34,
   "id": "87115811-6a5b-4bd9-9a90-f1dacaf627d2",
   "metadata": {},
   "outputs": [
    {
     "data": {
      "text/plain": [
       "array([ 0,  1,  2,  3,  4,  5,  6,  7,  8,  9, 10, 11, 12, 13, 14, 15, 16,\n",
       "       17, 18, 19, 20, 21, 22, 23, 24, 25, 26, 27, 28, 29, 30, 31, 32, 33,\n",
       "       34, 35, 36, 37, 38, 39, 40, 41, 42, 43, 44, 45, 46, 47, 48, 49, 50,\n",
       "       51, 52, 53, 54, 55, 56, 57, 58, 59])"
      ]
     },
     "execution_count": 34,
     "metadata": {},
     "output_type": "execute_result"
    }
   ],
   "source": [
    "arr.flatten()"
   ]
  },
  {
   "cell_type": "code",
   "execution_count": 35,
   "id": "c0708992-1551-4cd4-9227-4c65a35436fb",
   "metadata": {},
   "outputs": [
    {
     "data": {
      "text/plain": [
       "array([48, 27, 16, 24, 27, 48, 46, 45, 25, 29,  8, 13, 36, 33, 28, 32, 44,\n",
       "       31, 19, 34, 21, 46, 13, 12, 31, 47, 41,  8, 37, 31, 35, 18, 18, 33,\n",
       "       39,  9, 10, 46, 41, 22, 15, 38, 32, 41, 36, 24, 16, 25,  9, 13, 31,\n",
       "       37, 36, 16, 20, 19, 44, 49, 20, 26, 45,  9, 36, 10, 25, 39, 48, 13,\n",
       "       48, 26, 17,  5, 28, 45, 45, 11, 49, 41, 28, 12, 15, 25, 49, 17, 42,\n",
       "       33, 49, 21, 13, 48, 12, 48, 24, 28, 10,  7, 12, 49, 42, 41])"
      ]
     },
     "execution_count": 35,
     "metadata": {},
     "output_type": "execute_result"
    }
   ],
   "source": [
    "arr2 = np.random.randint(5,50,100)\n",
    "arr2"
   ]
  },
  {
   "cell_type": "code",
   "execution_count": 36,
   "id": "dd4a101f-0236-4d99-a00c-14788cb43d4c",
   "metadata": {},
   "outputs": [
    {
     "data": {
      "text/plain": [
       "0"
      ]
     },
     "execution_count": 36,
     "metadata": {},
     "output_type": "execute_result"
    }
   ],
   "source": [
    "arr.min()"
   ]
  },
  {
   "cell_type": "code",
   "execution_count": 37,
   "id": "59eeb9f6-43f8-49a8-9a3b-43235ede2556",
   "metadata": {},
   "outputs": [
    {
     "data": {
      "text/plain": [
       "59"
      ]
     },
     "execution_count": 37,
     "metadata": {},
     "output_type": "execute_result"
    }
   ],
   "source": [
    "arr.max()"
   ]
  },
  {
   "cell_type": "code",
   "execution_count": 38,
   "id": "d5c95e58-4be6-40bc-adda-e0aa545cb3ef",
   "metadata": {},
   "outputs": [
    {
     "data": {
      "text/plain": [
       "29.5"
      ]
     },
     "execution_count": 38,
     "metadata": {},
     "output_type": "execute_result"
    }
   ],
   "source": [
    "arr.mean()"
   ]
  },
  {
   "cell_type": "code",
   "execution_count": 39,
   "id": "4b7ebb6b-4929-436a-82c9-547f44427872",
   "metadata": {},
   "outputs": [
    {
     "data": {
      "text/plain": [
       "1770"
      ]
     },
     "execution_count": 39,
     "metadata": {},
     "output_type": "execute_result"
    }
   ],
   "source": [
    "arr.sum()"
   ]
  },
  {
   "cell_type": "code",
   "execution_count": 40,
   "id": "b18d7735-cfe0-427b-a7dc-433257c4bfeb",
   "metadata": {},
   "outputs": [
    {
     "data": {
      "text/plain": [
       "array([[47, 16, 21],\n",
       "       [31, 26, 35],\n",
       "       [13, 27, 37],\n",
       "       [47, 20, 19]])"
      ]
     },
     "execution_count": 40,
     "metadata": {},
     "output_type": "execute_result"
    }
   ],
   "source": [
    "arr2 = np.random.randint(5,50,(4,3))\n",
    "arr2"
   ]
  },
  {
   "cell_type": "code",
   "execution_count": 41,
   "id": "0f247776-94a6-4f1e-8661-fe85499acaa2",
   "metadata": {},
   "outputs": [
    {
     "data": {
      "text/plain": [
       "array([[47, 31, 13, 47],\n",
       "       [16, 26, 27, 20],\n",
       "       [21, 35, 37, 19]])"
      ]
     },
     "execution_count": 41,
     "metadata": {},
     "output_type": "execute_result"
    }
   ],
   "source": [
    "arr2.T"
   ]
  },
  {
   "cell_type": "code",
   "execution_count": 42,
   "id": "d4ccebc7-17f6-4dd5-97b3-368b67dceaa6",
   "metadata": {},
   "outputs": [
    {
     "data": {
      "text/plain": [
       "array([[10,  4,  3,  8,  5],\n",
       "       [ 6,  9,  6, 10,  7],\n",
       "       [ 9,  2,  7,  5,  4],\n",
       "       [ 4,  8,  6,  7,  9],\n",
       "       [ 7,  5,  9,  5, 11],\n",
       "       [ 4, 11,  3,  7,  2],\n",
       "       [ 3,  3, 11,  7,  5],\n",
       "       [11,  2,  2, 11,  5],\n",
       "       [11,  9,  7, 10,  5],\n",
       "       [ 7,  7,  7,  9,  6]])"
      ]
     },
     "execution_count": 42,
     "metadata": {},
     "output_type": "execute_result"
    }
   ],
   "source": [
    "arr = np.random.randint(2,12,(10,5))\n",
    "arr"
   ]
  },
  {
   "cell_type": "code",
   "execution_count": 43,
   "id": "3f3f9893-bd55-4a4e-862e-8c4c57538dcb",
   "metadata": {},
   "outputs": [
    {
     "data": {
      "text/plain": [
       "array([[11,  2,  2, 11,  5],\n",
       "       [11,  9,  7, 10,  5],\n",
       "       [ 7,  7,  7,  9,  6]])"
      ]
     },
     "execution_count": 43,
     "metadata": {},
     "output_type": "execute_result"
    }
   ],
   "source": [
    "arr[7:]"
   ]
  },
  {
   "cell_type": "code",
   "execution_count": 44,
   "id": "b2f93d26-c40e-467e-9a51-4fe5f96d06f5",
   "metadata": {},
   "outputs": [
    {
     "data": {
      "text/plain": [
       "array([[ 9,  2,  7,  5,  4],\n",
       "       [ 4,  8,  6,  7,  9],\n",
       "       [ 7,  5,  9,  5, 11]])"
      ]
     },
     "execution_count": 44,
     "metadata": {},
     "output_type": "execute_result"
    }
   ],
   "source": [
    "arr[2:5]"
   ]
  },
  {
   "cell_type": "code",
   "execution_count": 45,
   "id": "10015863-e47f-4476-b92d-43dcb1f993f6",
   "metadata": {},
   "outputs": [
    {
     "data": {
      "text/plain": [
       "array([[10,  4],\n",
       "       [ 6,  9],\n",
       "       [ 9,  2],\n",
       "       [ 4,  8],\n",
       "       [ 7,  5],\n",
       "       [ 4, 11],\n",
       "       [ 3,  3],\n",
       "       [11,  2],\n",
       "       [11,  9],\n",
       "       [ 7,  7]])"
      ]
     },
     "execution_count": 45,
     "metadata": {},
     "output_type": "execute_result"
    }
   ],
   "source": [
    "arr[0:10,0:2]"
   ]
  },
  {
   "cell_type": "code",
   "execution_count": 46,
   "id": "5920d594-c729-4fed-b389-495a682caa95",
   "metadata": {},
   "outputs": [
    {
     "data": {
      "text/plain": [
       "array([[10,  4],\n",
       "       [ 6,  9],\n",
       "       [ 9,  2],\n",
       "       [ 4,  8],\n",
       "       [ 7,  5],\n",
       "       [ 4, 11],\n",
       "       [ 3,  3],\n",
       "       [11,  2],\n",
       "       [11,  9],\n",
       "       [ 7,  7]])"
      ]
     },
     "execution_count": 46,
     "metadata": {},
     "output_type": "execute_result"
    }
   ],
   "source": [
    "arr[:,:2]"
   ]
  },
  {
   "cell_type": "code",
   "execution_count": 47,
   "id": "9dc10e0e-7664-4782-b417-a12c8fa45103",
   "metadata": {},
   "outputs": [
    {
     "data": {
      "text/plain": [
       "array([[ 6,  7,  9],\n",
       "       [ 9,  5, 11],\n",
       "       [ 3,  7,  2]])"
      ]
     },
     "execution_count": 47,
     "metadata": {},
     "output_type": "execute_result"
    }
   ],
   "source": [
    "arr[3:6,2:]"
   ]
  },
  {
   "cell_type": "code",
   "execution_count": 48,
   "id": "8c280bb1-242f-4984-b66e-f6035287d345",
   "metadata": {},
   "outputs": [
    {
     "data": {
      "text/plain": [
       "array([[ 3,  8,  5],\n",
       "       [ 7,  5,  4],\n",
       "       [ 9,  5, 11],\n",
       "       [11,  7,  5],\n",
       "       [ 7, 10,  5]])"
      ]
     },
     "execution_count": 48,
     "metadata": {},
     "output_type": "execute_result"
    }
   ],
   "source": [
    "arr[0::2,2:]"
   ]
  },
  {
   "cell_type": "code",
   "execution_count": 49,
   "id": "a536196d-78a8-4b4c-8a80-ca7348444144",
   "metadata": {},
   "outputs": [
    {
     "data": {
      "text/plain": [
       "array([[[39, 20, 41, 43,  4],\n",
       "        [18, 48,  2, 21, 31],\n",
       "        [31, 11, 20, 46, 27],\n",
       "        [27, 37, 45, 20, 38],\n",
       "        [42, 10,  4, 25, 18],\n",
       "        [18, 21, 27,  5, 47],\n",
       "        [31, 42,  3, 28, 26],\n",
       "        [16, 23, 34, 10, 19],\n",
       "        [10, 27, 30, 25, 27],\n",
       "        [49,  2,  7, 29, 26]],\n",
       "\n",
       "       [[37, 16,  8, 43, 33],\n",
       "        [35, 21, 44, 49, 19],\n",
       "        [32,  5, 27, 26, 41],\n",
       "        [ 2, 43, 46,  6, 22],\n",
       "        [47, 35, 35, 25, 36],\n",
       "        [ 7, 40, 24, 31, 36],\n",
       "        [43, 29, 34, 44, 33],\n",
       "        [39, 45, 24, 28, 29],\n",
       "        [28, 42, 17, 45, 31],\n",
       "        [16, 48, 34, 37,  6]],\n",
       "\n",
       "       [[46, 44,  6, 12,  7],\n",
       "        [44, 37, 48, 34, 45],\n",
       "        [ 5,  5, 16, 43, 41],\n",
       "        [27, 17, 13, 23, 23],\n",
       "        [ 7, 20, 42, 28, 36],\n",
       "        [41, 25, 26, 42, 35],\n",
       "        [21, 31, 37, 14, 33],\n",
       "        [49, 38, 33, 25, 11],\n",
       "        [20, 36, 46,  4, 43],\n",
       "        [16, 24, 27, 15, 24]],\n",
       "\n",
       "       [[38, 48, 12, 21,  5],\n",
       "        [37, 18, 38, 42, 39],\n",
       "        [ 8, 43,  8, 10,  5],\n",
       "        [22, 11, 37, 28, 43],\n",
       "        [31, 32,  2, 10, 28],\n",
       "        [24, 26, 14,  6,  4],\n",
       "        [ 5, 11, 40, 14,  7],\n",
       "        [37,  6, 13, 43, 13],\n",
       "        [29, 40,  6, 18, 40],\n",
       "        [20, 41,  3, 10, 14]],\n",
       "\n",
       "       [[34,  2, 44,  9, 12],\n",
       "        [ 8, 35, 13,  7, 44],\n",
       "        [33, 23, 38, 16, 19],\n",
       "        [14, 25,  5, 18, 49],\n",
       "        [36, 27, 17, 17, 22],\n",
       "        [13, 20, 43, 14, 37],\n",
       "        [11, 32,  3, 44, 27],\n",
       "        [34, 41,  7, 44, 21],\n",
       "        [ 4, 24,  7,  9,  2],\n",
       "        [35, 23, 25, 15, 41]]])"
      ]
     },
     "execution_count": 49,
     "metadata": {},
     "output_type": "execute_result"
    }
   ],
   "source": [
    "arr2 =np.random.randint(2,50,(5,10,5))\n",
    "arr2"
   ]
  },
  {
   "cell_type": "code",
   "execution_count": 50,
   "id": "fa91a60a-c411-42b9-92f2-9efb469f0701",
   "metadata": {},
   "outputs": [
    {
     "data": {
      "text/plain": [
       "(10, 5)"
      ]
     },
     "execution_count": 50,
     "metadata": {},
     "output_type": "execute_result"
    }
   ],
   "source": [
    "arr.shape"
   ]
  },
  {
   "cell_type": "code",
   "execution_count": 51,
   "id": "4081c734-3ea5-493a-8e97-f56e3d8021a2",
   "metadata": {},
   "outputs": [
    {
     "data": {
      "text/plain": [
       "2"
      ]
     },
     "execution_count": 51,
     "metadata": {},
     "output_type": "execute_result"
    }
   ],
   "source": [
    "arr.ndim"
   ]
  },
  {
   "cell_type": "code",
   "execution_count": 52,
   "id": "b65e1645-c5ea-4e05-8878-8404e75f1965",
   "metadata": {},
   "outputs": [
    {
     "data": {
      "text/plain": [
       "array([10,  4,  3,  8,  5])"
      ]
     },
     "execution_count": 52,
     "metadata": {},
     "output_type": "execute_result"
    }
   ],
   "source": [
    "arr[0]"
   ]
  },
  {
   "cell_type": "code",
   "execution_count": 53,
   "id": "1123d233-3fc9-4c6c-905b-391af140e92b",
   "metadata": {},
   "outputs": [],
   "source": [
    "arr2= arr[0]\n",
    "arr2"
   ]
  },
  {
   "cell_type": "code",
   "execution_count": 59,
   "id": "647e4756-9123-4fbc-b767-d32cee96becd",
   "metadata": {},
   "outputs": [
    {
     "data": {
      "text/plain": [
       "array([[[39, 20, 41, 43,  4],\n",
       "        [18, 48,  2, 21, 31],\n",
       "        [31, 11, 20, 46, 27],\n",
       "        [27, 37, 45, 20, 38],\n",
       "        [42, 10,  4, 25, 18],\n",
       "        [18, 21, 27,  5, 47],\n",
       "        [31, 42,  3, 28, 26],\n",
       "        [16, 23, 34, 10, 19],\n",
       "        [10, 27, 30, 25, 27],\n",
       "        [49,  2,  7, 29, 26]],\n",
       "\n",
       "       [[37, 16,  8, 43, 33],\n",
       "        [35, 21, 44, 49, 19],\n",
       "        [32,  5, 27, 26, 41],\n",
       "        [ 2, 43, 46,  6, 22],\n",
       "        [47, 35, 35, 25, 36],\n",
       "        [ 7, 40, 24, 31, 36],\n",
       "        [43, 29, 34, 44, 33],\n",
       "        [39, 45, 24, 28, 29],\n",
       "        [28, 42, 17, 45, 31],\n",
       "        [16, 48, 34, 37,  6]],\n",
       "\n",
       "       [[46, 44,  6, 12,  7],\n",
       "        [44, 37, 48, 34, 45],\n",
       "        [ 5,  5, 16, 43, 41],\n",
       "        [27, 17, 13, 23, 23],\n",
       "        [ 7, 20, 42, 28, 36],\n",
       "        [41, 25, 26, 42, 35],\n",
       "        [21, 31, 37, 14, 33],\n",
       "        [49, 38, 33, 25, 11],\n",
       "        [20, 36, 46,  4, 43],\n",
       "        [16, 24, 27, 15, 24]],\n",
       "\n",
       "       [[38, 48, 12, 21,  5],\n",
       "        [37, 18, 38, 42, 39],\n",
       "        [ 8, 43,  8, 10,  5],\n",
       "        [22, 11, 37, 28, 43],\n",
       "        [31, 32,  2, 10, 28],\n",
       "        [24, 26, 14,  6,  4],\n",
       "        [ 5, 11, 40, 14,  7],\n",
       "        [37,  6, 13, 43, 13],\n",
       "        [29, 40,  6, 18, 40],\n",
       "        [20, 41,  3, 10, 14]],\n",
       "\n",
       "       [[34,  2, 44,  9, 12],\n",
       "        [ 8, 35, 13,  7, 44],\n",
       "        [33, 23, 38, 16, 19],\n",
       "        [14, 25,  5, 18, 49],\n",
       "        [36, 27, 17, 17, 22],\n",
       "        [13, 20, 43, 14, 37],\n",
       "        [11, 32,  3, 44, 27],\n",
       "        [34, 41,  7, 44, 21],\n",
       "        [ 4, 24,  7,  9,  2],\n",
       "        [35, 23, 25, 15, 41]]])"
      ]
     },
     "execution_count": 59,
     "metadata": {},
     "output_type": "execute_result"
    }
   ],
   "source": [
    "arr2"
   ]
  },
  {
   "cell_type": "code",
   "execution_count": 58,
   "id": "e31d63b6-adfc-4202-b586-629cdefd382b",
   "metadata": {},
   "outputs": [
    {
     "data": {
      "text/plain": [
       "array([[[49,  2,  7, 29, 26]],\n",
       "\n",
       "       [[16, 48, 34, 37,  6]],\n",
       "\n",
       "       [[16, 24, 27, 15, 24]],\n",
       "\n",
       "       [[20, 41,  3, 10, 14]],\n",
       "\n",
       "       [[35, 23, 25, 15, 41]]])"
      ]
     },
     "execution_count": 58,
     "metadata": {},
     "output_type": "execute_result"
    }
   ],
   "source": [
    "arr2[:,9:,:]"
   ]
  },
  {
   "cell_type": "code",
   "execution_count": 61,
   "id": "1f562297-13e1-4b78-a551-5093a2f5069c",
   "metadata": {},
   "outputs": [
    {
     "data": {
      "text/plain": [
       "array([7, 5, 9])"
      ]
     },
     "execution_count": 61,
     "metadata": {},
     "output_type": "execute_result"
    }
   ],
   "source": [
    "arr = np.array([7,5,9])\n",
    "arr"
   ]
  },
  {
   "cell_type": "code",
   "execution_count": 64,
   "id": "8592b6d1-d434-40cc-9a2f-29bb02e3347a",
   "metadata": {},
   "outputs": [
    {
     "data": {
      "text/plain": [
       "2"
      ]
     },
     "execution_count": 64,
     "metadata": {},
     "output_type": "execute_result"
    }
   ],
   "source": [
    "arr.argmax()\n"
   ]
  },
  {
   "cell_type": "code",
   "execution_count": 65,
   "id": "116d7d81-3ad0-425c-b466-18072bf905c6",
   "metadata": {},
   "outputs": [
    {
     "data": {
      "text/plain": [
       "1"
      ]
     },
     "execution_count": 65,
     "metadata": {},
     "output_type": "execute_result"
    }
   ],
   "source": [
    "arr.argmin()"
   ]
  },
  {
   "cell_type": "code",
   "execution_count": 68,
   "id": "70eefef4-39eb-4de4-810c-98addbba73db",
   "metadata": {},
   "outputs": [
    {
     "data": {
      "text/plain": [
       "array([5, 7, 9])"
      ]
     },
     "execution_count": 68,
     "metadata": {},
     "output_type": "execute_result"
    }
   ],
   "source": [
    "arr.sort()\n",
    "arr"
   ]
  },
  {
   "cell_type": "code",
   "execution_count": 69,
   "id": "5c7b0edd-bde1-454b-8567-a11357b82256",
   "metadata": {},
   "outputs": [
    {
     "data": {
      "text/plain": [
       "array([9, 7, 5])"
      ]
     },
     "execution_count": 69,
     "metadata": {},
     "output_type": "execute_result"
    }
   ],
   "source": [
    "arr[::-1]"
   ]
  },
  {
   "cell_type": "code",
   "execution_count": 71,
   "id": "4d8812f8-de40-4936-9230-99ee1a2f11b4",
   "metadata": {},
   "outputs": [
    {
     "data": {
      "text/plain": [
       "array([[ 4,  6, 10,  2,  4],\n",
       "       [11,  8,  4,  7,  7],\n",
       "       [ 8,  2,  1, 11,  1],\n",
       "       [10,  2,  4, 11,  1],\n",
       "       [ 8,  4,  6,  4,  8],\n",
       "       [ 4,  7,  4, 10,  5],\n",
       "       [ 7, 10,  2,  4,  2],\n",
       "       [ 8,  9, 10, 11, 10],\n",
       "       [ 2, 11,  5,  5,  4],\n",
       "       [ 1,  5,  3,  2,  4]])"
      ]
     },
     "execution_count": 71,
     "metadata": {},
     "output_type": "execute_result"
    }
   ],
   "source": [
    "arr = np.random.randint(1,12,(10,5))\n",
    "arr"
   ]
  },
  {
   "cell_type": "code",
   "execution_count": 72,
   "id": "99e888ef-5a4f-4eb7-93c0-436d025efd9f",
   "metadata": {},
   "outputs": [
    {
     "data": {
      "text/plain": [
       "array([ 1,  2,  3,  4,  5,  6,  7,  8,  9, 10, 11])"
      ]
     },
     "execution_count": 72,
     "metadata": {},
     "output_type": "execute_result"
    }
   ],
   "source": [
    "np.unique(arr)"
   ]
  },
  {
   "cell_type": "code",
   "execution_count": 73,
   "id": "d5c96087-79c8-40c0-8804-e96d0bca30cf",
   "metadata": {},
   "outputs": [
    {
     "data": {
      "text/plain": [
       "10.4116"
      ]
     },
     "execution_count": 73,
     "metadata": {},
     "output_type": "execute_result"
    }
   ],
   "source": [
    "arr.var()"
   ]
  },
  {
   "cell_type": "code",
   "execution_count": 76,
   "id": "d79cf283-455a-41d7-a5ae-84f80378aeb8",
   "metadata": {},
   "outputs": [
    {
     "data": {
      "text/plain": [
       "5.0"
      ]
     },
     "execution_count": 76,
     "metadata": {},
     "output_type": "execute_result"
    }
   ],
   "source": [
    "np.median(arr)"
   ]
  },
  {
   "cell_type": "code",
   "execution_count": 78,
   "id": "9aebf9a3-b154-46a8-8b65-4e098800a0ea",
   "metadata": {},
   "outputs": [
    {
     "data": {
      "text/plain": [
       "3.2267011017446285"
      ]
     },
     "execution_count": 78,
     "metadata": {},
     "output_type": "execute_result"
    }
   ],
   "source": [
    "arr.std()"
   ]
  },
  {
   "cell_type": "code",
   "execution_count": 79,
   "id": "ed889fc4-6697-45d0-9f01-eae432193f74",
   "metadata": {},
   "outputs": [
    {
     "data": {
      "text/plain": [
       "5.0"
      ]
     },
     "execution_count": 79,
     "metadata": {},
     "output_type": "execute_result"
    }
   ],
   "source": [
    "np.sqrt(25)"
   ]
  },
  {
   "cell_type": "code",
   "execution_count": null,
   "id": "a140eb2a-b396-44b1-9f76-bfb589d2fc35",
   "metadata": {},
   "outputs": [],
   "source": []
  }
 ],
 "metadata": {
  "kernelspec": {
   "display_name": "Python 3 (ipykernel)",
   "language": "python",
   "name": "python3"
  },
  "language_info": {
   "codemirror_mode": {
    "name": "ipython",
    "version": 3
   },
   "file_extension": ".py",
   "mimetype": "text/x-python",
   "name": "python",
   "nbconvert_exporter": "python",
   "pygments_lexer": "ipython3",
   "version": "3.8.10"
  }
 },
 "nbformat": 4,
 "nbformat_minor": 5
}
